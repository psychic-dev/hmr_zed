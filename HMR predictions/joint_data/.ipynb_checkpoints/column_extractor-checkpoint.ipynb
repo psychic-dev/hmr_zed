{
 "cells": [
  {
   "cell_type": "code",
   "execution_count": 1,
   "metadata": {},
   "outputs": [],
   "source": [
    "import numpy as np\n",
    "import pandas as pd\n",
    "import matplotlib.pyplot as plt\n",
    "from mpl_toolkits.mplot3d import axes3d, Axes3D"
   ]
  },
  {
   "cell_type": "code",
   "execution_count": 2,
   "metadata": {},
   "outputs": [],
   "source": [
    "data_knee = pd.read_csv('/home/apg/Desktop/Recordings/HMR predictions/joint_data/left_knee_2019-05-22-12:38:09.csv', delimiter=',', header=None)"
   ]
  },
  {
   "cell_type": "code",
   "execution_count": 4,
   "metadata": {},
   "outputs": [
    {
     "data": {
      "text/plain": [
       "0       -0.029990\n",
       "1       -0.070714\n",
       "2       -0.079332\n",
       "3       -0.116424\n",
       "4       -0.123347\n",
       "5       -0.121831\n",
       "6       -0.131736\n",
       "7       -0.117416\n",
       "8       -0.144909\n",
       "9       -0.193723\n",
       "10      -0.110224\n",
       "11       0.008126\n",
       "12      -0.004145\n",
       "13      -0.053773\n",
       "14      -0.051227\n",
       "15      -0.081464\n",
       "16      -0.066223\n",
       "17      -0.108570\n",
       "18      -0.110364\n",
       "19      -0.042626\n",
       "20      -0.041481\n",
       "21      -0.113092\n",
       "22      -0.118227\n",
       "23      -0.085822\n",
       "24      -0.054072\n",
       "25      -0.086732\n",
       "26      -0.093888\n",
       "27      -0.030757\n",
       "28       0.003381\n",
       "29      -0.027771\n",
       "           ...   \n",
       "10450    0.047298\n",
       "10451    0.009338\n",
       "10452   -0.001886\n",
       "10453   -0.006757\n",
       "10454    0.012588\n",
       "10455    0.012438\n",
       "10456    0.032095\n",
       "10457    0.051957\n",
       "10458    0.045945\n",
       "10459    0.093759\n",
       "10460    0.127534\n",
       "10461    0.088845\n",
       "10462    0.068913\n",
       "10463    0.020899\n",
       "10464   -0.036684\n",
       "10465   -0.076603\n",
       "10466    0.007229\n",
       "10467    0.069892\n",
       "10468    0.188586\n",
       "10469    0.187204\n",
       "10470    0.185060\n",
       "10471    0.148636\n",
       "10472    0.151586\n",
       "10473    0.167064\n",
       "10474    0.157645\n",
       "10475    0.194952\n",
       "10476    0.080557\n",
       "10477    0.100987\n",
       "10478    0.118621\n",
       "10479    0.171698\n",
       "Name: 1, Length: 10480, dtype: float64"
      ]
     },
     "execution_count": 4,
     "metadata": {},
     "output_type": "execute_result"
    }
   ],
   "source": [
    "data_knee[1]"
   ]
  },
  {
   "cell_type": "code",
   "execution_count": 5,
   "metadata": {},
   "outputs": [
    {
     "name": "stderr",
     "output_type": "stream",
     "text": [
      "/usr/local/lib/python3.5/dist-packages/ipykernel_launcher.py:1: FutureWarning: The signature of `Series.to_csv` was aligned to that of `DataFrame.to_csv`, and argument 'header' will change its default value from False to True: please pass an explicit value to suppress this warning.\n",
      "  \"\"\"Entry point for launching an IPython kernel.\n"
     ]
    }
   ],
   "source": [
    "data_knee[1].to_csv('/home/apg/Desktop/Recordings/HMR predictions/joint_data/knee_pitch.csv', index=False)"
   ]
  }
 ],
 "metadata": {
  "kernelspec": {
   "display_name": "Python 2",
   "language": "python",
   "name": "python2"
  },
  "language_info": {
   "codemirror_mode": {
    "name": "ipython",
    "version": 3
   },
   "file_extension": ".py",
   "mimetype": "text/x-python",
   "name": "python",
   "nbconvert_exporter": "python",
   "pygments_lexer": "ipython3",
   "version": "3.5.2"
  }
 },
 "nbformat": 4,
 "nbformat_minor": 2
}
